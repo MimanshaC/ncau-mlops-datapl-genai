{
 "cells": [
  {
   "attachments": {},
   "cell_type": "markdown",
   "metadata": {},
   "source": [
    "### Notebook to submit compiled pipeline.json to Vertex AI\n",
    "This notebook acts as a convenient entry point for submitting a pipeline to Vertex AI. To do so, the desired pipeline needs to compiled previously via running the __poe compile --pipeline 'pipeline-name'__ command. The absolute path of this pipeline.json file needs to be assigned to the __TEMPLATE_PATH__ variable."
   ]
  },
  {
   "cell_type": "code",
   "execution_count": null,
   "metadata": {},
   "outputs": [],
   "source": [
    "# Import libraries needed\n",
    "from google.cloud import aiplatform"
   ]
  },
  {
   "cell_type": "code",
   "execution_count": null,
   "metadata": {},
   "outputs": [],
   "source": [
    "# Set parameters\n",
    "DISPLAY_NAME = \"insert-name-of-job\"\n",
    "TEMPLATE_PATH = \"absolute/path/to/compiled/pipeline.json\" # compile pipeline wanted via the poe compile --pipeline <pipeline-name> command\n",
    "CACHING = True # set to False if caching should be turned-off\n",
    "SERVICE_ACCOUNT = \"<service-account-for-submission>\""
   ]
  },
  {
   "cell_type": "code",
   "execution_count": null,
   "metadata": {},
   "outputs": [],
   "source": [
    "# Define job to run\n",
    "job = aiplatform.PipelineJob(display_name=DISPLAY_NAME,\n",
    "                             template_path=TEMPLATE_PATH,\n",
    "                             enable_caching=CACHING)"
   ]
  },
  {
   "cell_type": "code",
   "execution_count": null,
   "metadata": {},
   "outputs": [],
   "source": [
    "# Submit job specifying a service account that can submit jobs\n",
    "job.submit(service_account=SERVICE_ACCOUNT)"
   ]
  }
 ],
 "metadata": {
  "kernelspec": {
   "display_name": "sales-forecasting-delivery",
   "language": "python",
   "name": "python3"
  },
  "language_info": {
   "codemirror_mode": {
    "name": "ipython",
    "version": 3
   },
   "file_extension": ".py",
   "mimetype": "text/x-python",
   "name": "python",
   "nbconvert_exporter": "python",
   "pygments_lexer": "ipython3",
   "version": "3.8.16"
  },
  "orig_nbformat": 4
 },
 "nbformat": 4,
 "nbformat_minor": 2
}
